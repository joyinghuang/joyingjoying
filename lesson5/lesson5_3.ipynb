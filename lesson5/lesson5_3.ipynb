{
 "cells": [
  {
   "cell_type": "code",
   "execution_count": null,
   "id": "e8052b00",
   "metadata": {},
   "outputs": [],
   "source": [
    "scores = 50\n",
    "\n",
    "if scores >= 60:\n",
    "    print(\"大於等於60\")\n",
    "else:\n",
    "    print(\"小於60\")\n",
    "\n"
   ]
  },
  {
   "cell_type": "code",
   "execution_count": 6,
   "id": "5a652e88",
   "metadata": {},
   "outputs": [
    {
     "name": "stdout",
     "output_type": "stream",
     "text": [
      "60 <= scores <= 80\n"
     ]
    }
   ],
   "source": [
    "# 60 <= scores <= 80\n",
    "# 2個條件,巢狀判斷\n",
    "\n",
    "scores = 80\n",
    "\n",
    "\n",
    "if scores >= 60:\n",
    "    if scores <= 80:\n",
    "        print(\"60 <= scores <= 80\")\n",
    "    else:\n",
    "        print(\"score > 80\")\n",
    "else:\n",
    "    print(\"scores < 60\")\n"
   ]
  },
  {
   "cell_type": "code",
   "execution_count": null,
   "id": "6fc15369",
   "metadata": {},
   "outputs": [
    {
     "name": "stdout",
     "output_type": "stream",
     "text": [
      "60 <= scores <= 80\n",
      "60 <= scores <= 80\n"
     ]
    },
    {
     "data": {
      "text/plain": [
       "True"
      ]
     },
     "execution_count": 7,
     "metadata": {},
     "output_type": "execute_result"
    }
   ],
   "source": [
    "# 60 <= scores <= 80\n",
    "# 2個條件,邏輯運算子(and)\n",
    "scores = 75\n",
    "if scores >= 60 and scores <=80:\n",
    "    print(\"60 <= scores <= 80\")\n",
    "else:\n",
    "    print(\"scores可能大於80或小於60\")\n",
    "\n"
   ]
  },
  {
   "cell_type": "code",
   "execution_count": 9,
   "id": "fda152ea",
   "metadata": {},
   "outputs": [
    {
     "name": "stdout",
     "output_type": "stream",
     "text": [
      "scores可能大於80或小於60\n"
     ]
    }
   ],
   "source": [
    "# 60 <= scores <= 80\n",
    "# 2個條件,邏輯運算子(or)\n",
    "scores = 85\n",
    "if scores < 60 or scores > 80:\n",
    "    print(\"scores可能大於80或小於60\")    \n",
    "else:\n",
    "    print(\"60 <= scores <= 80\")\n",
    "    \n"
   ]
  }
 ],
 "metadata": {
  "kernelspec": {
   "display_name": "base",
   "language": "python",
   "name": "python3"
  },
  "language_info": {
   "codemirror_mode": {
    "name": "ipython",
    "version": 3
   },
   "file_extension": ".py",
   "mimetype": "text/x-python",
   "name": "python",
   "nbconvert_exporter": "python",
   "pygments_lexer": "ipython3",
   "version": "3.13.2"
  }
 },
 "nbformat": 4,
 "nbformat_minor": 5
}
