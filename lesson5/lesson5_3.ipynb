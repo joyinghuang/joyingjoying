{
 "cells": [
  {
   "cell_type": "code",
   "execution_count": 3,
   "id": "e8052b00",
   "metadata": {},
   "outputs": [
    {
     "name": "stdout",
     "output_type": "stream",
     "text": [
      "大於等於60\n"
     ]
    }
   ],
   "source": [
    "scores = int(input(\"請輸入成績\"))\n",
    "\n",
    "if scores >= 60:\n",
    "    print(\"大於等於60\")\n",
    "else:\n",
    "    print(\"小於60\")\n",
    "\n"
   ]
  },
  {
   "cell_type": "code",
   "execution_count": 10,
   "id": "5a652e88",
   "metadata": {},
   "outputs": [
    {
     "name": "stdout",
     "output_type": "stream",
     "text": [
      "及格\n"
     ]
    }
   ],
   "source": [
    "# 60 <= scores <= 80\n",
    "# 2個條件,巢狀判斷\n",
    "\n",
    "scores = int(input(\"請輸入學生成績\"))\n",
    "\n",
    "\n",
    "if scores >= 60:\n",
    "    if scores <= 80:\n",
    "        print(\"優等生\")\n",
    "    else:\n",
    "        print(\"資優生\")\n",
    "else:\n",
    "    print(\"及格\")\n"
   ]
  },
  {
   "cell_type": "code",
   "execution_count": 14,
   "id": "6fc15369",
   "metadata": {},
   "outputs": [
    {
     "name": "stdout",
     "output_type": "stream",
     "text": [
      "優等生\n"
     ]
    }
   ],
   "source": [
    "# 60 <= scores <= 80\n",
    "# 2個條件,邏輯運算子(and)\n",
    "scores = 75\n",
    "if scores >= 60 and scores <=80:\n",
    "    print(\"優等生\")\n",
    "else:\n",
    "    print(\"scores可能大於80或小於60\")\n",
    "\n"
   ]
  },
  {
   "cell_type": "code",
   "execution_count": 9,
   "id": "fda152ea",
   "metadata": {},
   "outputs": [
    {
     "name": "stdout",
     "output_type": "stream",
     "text": [
      "scores可能大於80或小於60\n"
     ]
    }
   ],
   "source": [
    "# 60 <= scores <= 80\n",
    "# 2個條件,邏輯運算子(or)\n",
    "scores = 85\n",
    "if scores < 60 or scores > 80:\n",
    "    print(\"scores可能大於80或小於60\")    \n",
    "else:\n",
    "    print(\"60 <= scores <= 80\")\n",
    "    \n"
   ]
  },
  {
   "cell_type": "code",
   "execution_count": 25,
   "id": "19b7d3da",
   "metadata": {},
   "outputs": [
    {
     "name": "stdout",
     "output_type": "stream",
     "text": [
      "你的身高是: 160.0\n",
      "你的體重是: 60.0\n",
      "your BMI is: 23.44\n",
      "結束\n"
     ]
    }
   ],
   "source": [
    "try:\n",
    "    height=float(input(\"請輸入身高120-250cm\"))\n",
    "    if height >= 120 and height <= 250:\n",
    "        print('你的身高是:', height)\n",
    "    else:\n",
    "        print(\"輸入的值沒有在範圍裡\")\n",
    "    weight=float(input(\"請輸入身高30-200kg\"))\n",
    "    if weight >= 30 and weight <= 200:\n",
    "        print('你的體重是:', weight)\n",
    "    else:\n",
    "        raise Exception('已超出體重的範圍')\n",
    " \n",
    "except ValueError as e:\n",
    "    print('格式錯誤', e)\n",
    "except Exception as h:\n",
    "    print('不知名的錯誤',h )\n",
    "\n",
    "else:\n",
    "    BMI = weight / (height/100)**2\n",
    "    print('your BMI is:', round(BMI,2))\n",
    "\n",
    "finally:\n",
    "    print('結束')\n"
   ]
  }
 ],
 "metadata": {
  "kernelspec": {
   "display_name": "base",
   "language": "python",
   "name": "python3"
  },
  "language_info": {
   "codemirror_mode": {
    "name": "ipython",
    "version": 3
   },
   "file_extension": ".py",
   "mimetype": "text/x-python",
   "name": "python",
   "nbconvert_exporter": "python",
   "pygments_lexer": "ipython3",
   "version": "3.13.2"
  }
 },
 "nbformat": 4,
 "nbformat_minor": 5
}
