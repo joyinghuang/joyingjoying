{
 "cells": [
  {
   "cell_type": "code",
   "execution_count": null,
   "id": "6b96c85d",
   "metadata": {},
   "outputs": [],
   "source": [
    "# 請輸入梯形的上底(公分):5\n",
    "# 請輸入梯形的下底(公分):10\n",
    "# 請輸入梯形的高(公分):2"
   ]
  },
  {
   "cell_type": "code",
   "execution_count": 13,
   "id": "b73ed17f",
   "metadata": {},
   "outputs": [
    {
     "name": "stdout",
     "output_type": "stream",
     "text": [
      "梯形的面積: 26.62\n"
     ]
    }
   ],
   "source": [
    "top = 5\n",
    "bottom = 10\n",
    "height = 3.55\n",
    "\n",
    "area = (top + bottom)* height/2\n",
    "print(\"梯形的面積:\",round(area,2))"
   ]
  },
  {
   "cell_type": "code",
   "execution_count": 22,
   "id": "8787d940",
   "metadata": {},
   "outputs": [
    {
     "data": {
      "text/plain": [
       "58.0"
      ]
     },
     "execution_count": 22,
     "metadata": {},
     "output_type": "execute_result"
    }
   ],
   "source": [
    "value =input(\"請輸入一個數值:\")\n",
    "type(value)\n",
    "value2=float(value)\n",
    "value2"
   ]
  },
  {
   "cell_type": "code",
   "execution_count": 23,
   "id": "4a3f09b4",
   "metadata": {},
   "outputs": [],
   "source": [
    "value =float(input(\"請輸入一個數值:\"))"
   ]
  },
  {
   "cell_type": "code",
   "execution_count": 24,
   "id": "45882aec",
   "metadata": {},
   "outputs": [
    {
     "name": "stdout",
     "output_type": "stream",
     "text": [
      "梯形的面積: 1644.5\n"
     ]
    }
   ],
   "source": [
    "top = float(input(\"請輸入上底(公分)\"))\n",
    "bottom = float(input(\"請輸入下底(公分)\"))\n",
    "height = float(input(\"請輸入高(公分)\"))\n",
    "\n",
    "area = (top + bottom)* height/2\n",
    "print(\"梯形的面積:\",round(area,2))"
   ]
  }
 ],
 "metadata": {
  "kernelspec": {
   "display_name": "base",
   "language": "python",
   "name": "python3"
  },
  "language_info": {
   "codemirror_mode": {
    "name": "ipython",
    "version": 3
   },
   "file_extension": ".py",
   "mimetype": "text/x-python",
   "name": "python",
   "nbconvert_exporter": "python",
   "pygments_lexer": "ipython3",
   "version": "3.13.2"
  }
 },
 "nbformat": 4,
 "nbformat_minor": 5
}
