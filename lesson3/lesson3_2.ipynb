{
 "cells": [
  {
   "cell_type": "code",
   "execution_count": 3,
   "id": "197d289c",
   "metadata": {},
   "outputs": [
    {
     "data": {
      "text/plain": [
       "'3535'"
      ]
     },
     "execution_count": 3,
     "metadata": {},
     "output_type": "execute_result"
    }
   ],
   "source": [
    "\"35\"+\"35\"\n",
    "'35'+'35'"
   ]
  },
  {
   "cell_type": "code",
   "execution_count": 4,
   "id": "acd75ceb",
   "metadata": {},
   "outputs": [
    {
     "data": {
      "text/plain": [
       "float"
      ]
     },
     "execution_count": 4,
     "metadata": {},
     "output_type": "execute_result"
    }
   ],
   "source": [
    "number1 = 10 #建立變數number1\n",
    "type(number1)\n",
    "number2 = 20.0\n",
    "type(number2)\n",
    "value = number1 + number2\n",
    "value\n",
    "type(value)"
   ]
  },
  {
   "cell_type": "code",
   "execution_count": 5,
   "id": "ed5af032",
   "metadata": {},
   "outputs": [
    {
     "data": {
      "text/plain": [
       "60.0"
      ]
     },
     "execution_count": 5,
     "metadata": {},
     "output_type": "execute_result"
    }
   ],
   "source": [
    "#轉換型別\n",
    "str1 = \"30\"\n",
    "num1 = 30\n",
    "\n",
    "value = float(str1) + num1\n",
    "value"
   ]
  }
 ],
 "metadata": {
  "kernelspec": {
   "display_name": "base",
   "language": "python",
   "name": "python3"
  },
  "language_info": {
   "codemirror_mode": {
    "name": "ipython",
    "version": 3
   },
   "file_extension": ".py",
   "mimetype": "text/x-python",
   "name": "python",
   "nbconvert_exporter": "python",
   "pygments_lexer": "ipython3",
   "version": "3.13.2"
  }
 },
 "nbformat": 4,
 "nbformat_minor": 5
}
