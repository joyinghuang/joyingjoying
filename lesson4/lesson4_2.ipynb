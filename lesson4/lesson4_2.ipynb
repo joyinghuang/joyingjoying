{
 "cells": [
  {
   "cell_type": "code",
   "execution_count": 4,
   "id": "f6a2f038",
   "metadata": {},
   "outputs": [
    {
     "data": {
      "text/plain": [
       "True"
      ]
     },
     "execution_count": 4,
     "metadata": {},
     "output_type": "execute_result"
    }
   ],
   "source": [
    "5 > 3\n",
    "3 > 5\n",
    "5 == 5"
   ]
  },
  {
   "cell_type": "code",
   "execution_count": null,
   "id": "d8fd780d",
   "metadata": {},
   "outputs": [
    {
     "name": "stdout",
     "output_type": "stream",
     "text": [
      "及格\n"
     ]
    }
   ],
   "source": [
    "score = 61\n",
    "if score>= 60:\n",
    "    print(\"及格\")\n",
    "else:\n",
    "    print(\"不及格\")"
   ]
  },
  {
   "cell_type": "code",
   "execution_count": 13,
   "id": "fecf5933",
   "metadata": {},
   "outputs": [
    {
     "name": "stdout",
     "output_type": "stream",
     "text": [
      "學生總分是: 279\n"
     ]
    }
   ],
   "source": [
    "#學生總分為300\n",
    "#有些學生可以加分5%\n",
    "\n",
    "scores = int(input(\"請輸入學生分數(最高300):\"))\n",
    "is_add = input(\"學生是否符合加分條件?(y,n)\")\n",
    "\n",
    "if is_add == \"y\": #單項選擇\n",
    "    scores *= 1.05\n",
    "\n",
    "print(\"學生總分是:\", round(scores))"
   ]
  }
 ],
 "metadata": {
  "kernelspec": {
   "display_name": "base",
   "language": "python",
   "name": "python3"
  },
  "language_info": {
   "codemirror_mode": {
    "name": "ipython",
    "version": 3
   },
   "file_extension": ".py",
   "mimetype": "text/x-python",
   "name": "python",
   "nbconvert_exporter": "python",
   "pygments_lexer": "ipython3",
   "version": "3.13.2"
  }
 },
 "nbformat": 4,
 "nbformat_minor": 5
}
