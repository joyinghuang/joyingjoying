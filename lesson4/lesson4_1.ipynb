{
 "cells": [
  {
   "cell_type": "code",
   "execution_count": 3,
   "id": "a13c1eec",
   "metadata": {},
   "outputs": [
    {
     "name": "stdout",
     "output_type": "stream",
     "text": [
      "3數的加總是: 263.7\n"
     ]
    }
   ],
   "source": [
    "value1 = float(input(\"請輸入第1個值:\"))\n",
    "value2 = float(input(\"請輸入第2個值:\"))\n",
    "value3 = float(input(\"請輸入第3個值:\"))\n",
    "\n",
    "total = value1+ value2+ value3\n",
    "print(\"3數的加總是:\",total)"
   ]
  },
  {
   "cell_type": "code",
   "execution_count": 5,
   "id": "a0d5de57",
   "metadata": {},
   "outputs": [
    {
     "name": "stdout",
     "output_type": "stream",
     "text": [
      "n= 100\n"
     ]
    }
   ],
   "source": [
    "n =25\n",
    "n+=25\n",
    "n*=2\n",
    "print(\"n=\", n)\n"
   ]
  },
  {
   "cell_type": "code",
   "execution_count": 7,
   "id": "98c4ca21",
   "metadata": {},
   "outputs": [
    {
     "name": "stdout",
     "output_type": "stream",
     "text": [
      "3數的加總是: 19.0\n"
     ]
    }
   ],
   "source": [
    "total = 1\n",
    "value = float(input(\"請輸入第1個值:\"))\n",
    "total += value\n",
    "\n",
    "value = float(input(\"請輸入第2個值:\"))\n",
    "total += value\n",
    "\n",
    "value = float(input(\"請輸入第3個值:\"))\n",
    "total += value\n",
    "\n",
    "print(\"3數的加總是:\", total)"
   ]
  },
  {
   "cell_type": "code",
   "execution_count": 8,
   "id": "d6b0e44d",
   "metadata": {},
   "outputs": [
    {
     "name": "stdout",
     "output_type": "stream",
     "text": [
      "a= 3.0\n",
      "b= 4.0\n",
      "斜邊為 5.0\n"
     ]
    }
   ],
   "source": [
    "#直角三角形\n",
    "import math\n",
    "a = float(input(\"請輸入a=\"))\n",
    "b = float(input(\"請輸入b=\"))\n",
    "c = math.sqrt(a ** 2 + b ** 2)\n",
    "\n",
    "print(\"a=\", a);\n",
    "print(\"b=\", b);\n",
    "print(\"斜邊為\", c);"
   ]
  },
  {
   "cell_type": "code",
   "execution_count": 9,
   "id": "782b675a",
   "metadata": {},
   "outputs": [
    {
     "name": "stdout",
     "output_type": "stream",
     "text": [
      "a= 3.0\n",
      "b= 4.0\n",
      "斜邊為 5.0\n"
     ]
    }
   ],
   "source": [
    "import math\n",
    "a= float(input(\"請輸入a=\"))\n",
    "b= float(input(\"請輸入b=\"))\n",
    "c= math.sqrt(a**2+b**2)\n",
    "\n",
    "print(\"a=\",a)\n",
    "print(\"b=\",b)\n",
    "print(\"斜邊為\",c);"
   ]
  },
  {
   "cell_type": "code",
   "execution_count": 2,
   "id": "97fe005f",
   "metadata": {},
   "outputs": [
    {
     "name": "stdout",
     "output_type": "stream",
     "text": [
      "直角三角形的角度是: 53.13010235415599\n"
     ]
    }
   ],
   "source": [
    "import math\n",
    "\n",
    "side = float(input(\"請輸入斜邊\"))\n",
    "other_side=float(input(\"請輸入斜邊\"))\n",
    "radian = math.asin(other_side / side)\n",
    "degree = math.degrees(radian)\n",
    "\n",
    "print(\"直角三角形的角度是:\",degree)\n"
   ]
  },
  {
   "cell_type": "code",
   "execution_count": 3,
   "id": "c5b11e33",
   "metadata": {},
   "outputs": [
    {
     "data": {
      "text/plain": [
       "1.0810874155219827"
      ]
     },
     "execution_count": 3,
     "metadata": {},
     "output_type": "execute_result"
    }
   ],
   "source": [
    "import statistics\n",
    "statistics.stdev([1.5,2.5,2.5,2.75,3.25,4.75])"
   ]
  }
 ],
 "metadata": {
  "kernelspec": {
   "display_name": "base",
   "language": "python",
   "name": "python3"
  },
  "language_info": {
   "codemirror_mode": {
    "name": "ipython",
    "version": 3
   },
   "file_extension": ".py",
   "mimetype": "text/x-python",
   "name": "python",
   "nbconvert_exporter": "python",
   "pygments_lexer": "ipython3",
   "version": "3.13.2"
  }
 },
 "nbformat": 4,
 "nbformat_minor": 5
}
