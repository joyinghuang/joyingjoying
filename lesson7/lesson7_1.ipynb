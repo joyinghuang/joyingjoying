{
 "cells": [
  {
   "cell_type": "code",
   "execution_count": 1,
   "id": "d1f7e731",
   "metadata": {},
   "outputs": [
    {
     "name": "stdout",
     "output_type": "stream",
     "text": [
      "5 的因數：1 5 "
     ]
    }
   ],
   "source": [
    "value = int(input(\"請輸入一整數：\"))\n",
    "print(f\"{value} 的因數：\",end='')\n",
    "\n",
    "factor = 1\n",
    "while (factor <= value):\n",
    "    if value % factor == 0:\n",
    "        print(factor,end=' ')\n",
    "    factor += 1"
   ]
  },
  {
   "cell_type": "code",
   "execution_count": 2,
   "id": "4ed36c78",
   "metadata": {},
   "outputs": [
    {
     "name": "stdout",
     "output_type": "stream",
     "text": [
      "10 及 125 的公因數：\n",
      "1\n",
      "5\n"
     ]
    }
   ],
   "source": [
    "value1 = int(input(\"請輸入第一個整數：\"))\n",
    "value2 = int(input(\"請輸入第二個整數：\"))\n",
    "print(f\"{value1} 及 {value2} 的公因數：\")\n",
    "\n",
    "factor = 1\n",
    "while (factor <= value1 and factor <= value2):\n",
    "    if value1 % factor == 0 and value2 % factor == 0:\n",
    "        print(factor)\n",
    "    factor += 1"
   ]
  }
 ],
 "metadata": {
  "kernelspec": {
   "display_name": "base",
   "language": "python",
   "name": "python3"
  },
  "language_info": {
   "codemirror_mode": {
    "name": "ipython",
    "version": 3
   },
   "file_extension": ".py",
   "mimetype": "text/x-python",
   "name": "python",
   "nbconvert_exporter": "python",
   "pygments_lexer": "ipython3",
   "version": "3.13.2"
  }
 },
 "nbformat": 4,
 "nbformat_minor": 5
}
