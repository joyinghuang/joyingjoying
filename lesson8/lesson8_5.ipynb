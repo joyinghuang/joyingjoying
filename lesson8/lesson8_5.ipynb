{
 "cells": [
  {
   "cell_type": "code",
   "execution_count": 1,
   "id": "576d26cd",
   "metadata": {},
   "outputs": [
    {
     "name": "stdout",
     "output_type": "stream",
     "text": [
      "Hello! 您好\n"
     ]
    }
   ],
   "source": [
    "def say_hello():\n",
    "    print(\"Hello! 您好\")\n",
    "\n",
    "say_hello()"
   ]
  },
  {
   "cell_type": "code",
   "execution_count": 4,
   "id": "57b7f137",
   "metadata": {},
   "outputs": [
    {
     "name": "stdout",
     "output_type": "stream",
     "text": [
      "Joyce! 您好\n"
     ]
    }
   ],
   "source": [
    "def hola(name):\n",
    "    print(f\"{name}! 您好\")\n",
    "\n",
    "hola(\"Joyce\")"
   ]
  },
  {
   "cell_type": "code",
   "execution_count": 5,
   "id": "7457cb4f",
   "metadata": {},
   "outputs": [],
   "source": [
    "name:str = \"robert\"\n",
    "age:int = 45"
   ]
  },
  {
   "cell_type": "code",
   "execution_count": 6,
   "id": "b3b351c6",
   "metadata": {},
   "outputs": [
    {
     "name": "stdout",
     "output_type": "stream",
     "text": [
      "Robert! 您好\n"
     ]
    }
   ],
   "source": [
    "def say_hello(name:str)->str:\n",
    "    return f\"{name}! 您好\"\n",
    "\n",
    "print(say_hello(\"Robert\"))"
   ]
  }
 ],
 "metadata": {
  "kernelspec": {
   "display_name": "base",
   "language": "python",
   "name": "python3"
  },
  "language_info": {
   "codemirror_mode": {
    "name": "ipython",
    "version": 3
   },
   "file_extension": ".py",
   "mimetype": "text/x-python",
   "name": "python",
   "nbconvert_exporter": "python",
   "pygments_lexer": "ipython3",
   "version": "3.13.2"
  }
 },
 "nbformat": 4,
 "nbformat_minor": 5
}
