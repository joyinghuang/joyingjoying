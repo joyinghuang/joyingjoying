{
 "cells": [
  {
   "cell_type": "code",
   "execution_count": 1,
   "id": "c2230495",
   "metadata": {},
   "outputs": [
    {
     "data": {
      "text/plain": [
       "('a', 'b', 'c', 'd', 'e')"
      ]
     },
     "execution_count": 1,
     "metadata": {},
     "output_type": "execute_result"
    }
   ],
   "source": [
    "('a', 'b', 'c', 'd', 'e') #使用()符號建立tuple\n",
    "'a', 'b', 'c', 'd', 'e' #可以省略(),直接使用逗號分隔\n"
   ]
  },
  {
   "cell_type": "code",
   "execution_count": 2,
   "id": "22b1c53b",
   "metadata": {},
   "outputs": [
    {
     "name": "stdout",
     "output_type": "stream",
     "text": [
      "(1, 2.5, '3.9', 'hello', True)\n"
     ]
    }
   ],
   "source": [
    "def fun1(*args):\n",
    "    print(args) #args是一個tuple\n",
    "\n",
    "fun1(1, 2.5, '3.9', 'hello', True)"
   ]
  },
  {
   "cell_type": "code",
   "execution_count": 3,
   "id": "6b25ba79",
   "metadata": {},
   "outputs": [
    {
     "name": "stdout",
     "output_type": "stream",
     "text": [
      "{'one': 1, 'two': 2, 'three': 3}\n"
     ]
    }
   ],
   "source": [
    "def fun2(**kwargs): ## **參數名稱,沒有限定數量的引數名稱呼叫\n",
    "    print(kwargs) ## kwargs是dictionary(dict)\n",
    "\n",
    "\n",
    "fun2(one=1,two=2,three=3) "
   ]
  }
 ],
 "metadata": {
  "kernelspec": {
   "display_name": "base",
   "language": "python",
   "name": "python3"
  },
  "language_info": {
   "codemirror_mode": {
    "name": "ipython",
    "version": 3
   },
   "file_extension": ".py",
   "mimetype": "text/x-python",
   "name": "python",
   "nbconvert_exporter": "python",
   "pygments_lexer": "ipython3",
   "version": "3.13.2"
  }
 },
 "nbformat": 4,
 "nbformat_minor": 5
}
